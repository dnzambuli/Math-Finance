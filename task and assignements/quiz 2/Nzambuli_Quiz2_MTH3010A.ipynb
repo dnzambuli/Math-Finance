{
 "cells": [
  {
   "cell_type": "markdown",
   "id": "8c6dffc1-e4b2-4866-8167-ed3cc144c8ea",
   "metadata": {},
   "source": [
    "# Solve all problems while demonstrating each step clearly. The Quiz is worth a  total of 10 points"
   ]
  },
  {
   "cell_type": "markdown",
   "id": "d5914b45-d1c0-41c4-815f-59ca349c81cc",
   "metadata": {},
   "source": [
    "## 1. Suppose an asset has the following factor sensitivities: $\\beta_{1} = 0.5, \\beta_{2} = −0.3, \\beta_{3} = 0.7$. If the expected returns of the three factors are $8 \\%,\\ 6\\%,$ and $10 \\%$ respectively, and the risk-free rate is $4\\%$ calculate the expected return of the asset according to arbitrage pricing theory."
   ]
  },
  {
   "cell_type": "markdown",
   "id": "b8772b31-0bfc-4266-9960-b2488cc88ad0",
   "metadata": {},
   "source": [
    "$$\n",
    "E(R_i)-\\ expected\\ return\\ of\\ an\\ asset\n",
    "$$\n",
    "$$\n",
    "R_f-\\ risk\\ free\\ rate\n",
    "$$\n",
    "$$\n",
    "\\beta_{1},\\ \\beta_{2},\\ \\beta_{3} -\\ sensitivity\\ of\\ asset\n",
    "$$\n",
    "$$\n",
    "E(F_1), E(F_2), E(F_3)-\\ expected\\ returns\\ of\\ the\\ assets\n",
    "$$"
   ]
  },
  {
   "cell_type": "markdown",
   "id": "8008a0b1-6f9b-49a9-8f40-e4031d97c851",
   "metadata": {},
   "source": [
    "$$\n",
    "E(R_i) = R_f + B_1 * E(F_1) + B_2 * E(F_2) + B_3 * E(F_3)\n",
    "$$\n",
    "$$\n",
    "= \\frac{4}{100} + 0.5 * \\frac{8}{100} + (-0.3 *\\frac{6}{100}) + 0.7 * \\frac{10}{100}\n",
    "$$"
   ]
  },
  {
   "cell_type": "code",
   "execution_count": 25,
   "id": "8a209d10-2bbf-4ff3-9e9d-c5ccc6fac0a0",
   "metadata": {},
   "outputs": [
    {
     "data": {
      "text/plain": [
       "0.04"
      ]
     },
     "execution_count": 25,
     "metadata": {},
     "output_type": "execute_result"
    }
   ],
   "source": [
    "(0.5 *(8/100))"
   ]
  },
  {
   "cell_type": "code",
   "execution_count": 26,
   "id": "50fcc739-3e07-42a0-b03c-f5554063075b",
   "metadata": {},
   "outputs": [
    {
     "data": {
      "text/plain": [
       "-0.018"
      ]
     },
     "execution_count": 26,
     "metadata": {},
     "output_type": "execute_result"
    }
   ],
   "source": [
    "round((-0.3 * (6/100)), 4)"
   ]
  },
  {
   "cell_type": "code",
   "execution_count": 28,
   "id": "c7463ebf-69c5-45dd-82ec-140220326381",
   "metadata": {},
   "outputs": [
    {
     "data": {
      "text/plain": [
       "0.07"
      ]
     },
     "execution_count": 28,
     "metadata": {},
     "output_type": "execute_result"
    }
   ],
   "source": [
    "round(0.7 * (10/100), 4)"
   ]
  },
  {
   "cell_type": "code",
   "execution_count": 30,
   "id": "adbd98ed-c76b-4e40-8043-ebc4d3193a47",
   "metadata": {},
   "outputs": [
    {
     "data": {
      "text/plain": [
       "0.132"
      ]
     },
     "execution_count": 30,
     "metadata": {},
     "output_type": "execute_result"
    }
   ],
   "source": [
    "0.04 + 0.04 - 0.018 + 0.07"
   ]
  },
  {
   "cell_type": "markdown",
   "id": "8df7762f-15e9-4f05-9de7-511adb26ecda",
   "metadata": {},
   "source": [
    "$$\n",
    "ans\\ =\\ 0.132\n",
    "$$"
   ]
  },
  {
   "cell_type": "markdown",
   "id": "71b44188-d7a9-41de-8046-5ece29771207",
   "metadata": {},
   "source": [
    "## 2. Consider a portfolio consisting of two assets: Asset A and Asset B. Asset A has an expected return of $10\\%$ and a standard deviation of $15\\%$, while Asset B has an expected return of $8\\%$ and a standard deviation of $10\\%$. If you allocate $60\\%$ of your portfolio to Asset A and $40\\%$ to Asset B, what is the expected return and variance of your portfolio?"
   ]
  },
  {
   "cell_type": "markdown",
   "id": "a8642d95-8a33-41e3-9cf7-4dab9aff23ae",
   "metadata": {},
   "source": [
    "$$\n",
    "E(R_A),\\ E(R_B)- expected\\ returns\\ asset\\ A\\ and\\ B\\ respectively\n",
    "$$\n",
    "$$\n",
    "w_a,\\ w_b - weight\\ of\\ asset\\ a\\ and\\ b\n",
    "$$\n",
    "$$\n",
    "E(R_p)-\\ expected\\ return\\ of\\ portfolio\n",
    "$$\n",
    "$$\n",
    "E(R_p) = w_a * E(R_A) + w_b * E(R_B)\n",
    "$$"
   ]
  },
  {
   "cell_type": "markdown",
   "id": "57025c16-ec36-4cac-bf84-0a76a350f403",
   "metadata": {},
   "source": [
    "$$\n",
    "= 0.6 * 0.1 + 0.4 * 0.08\n",
    "$$"
   ]
  },
  {
   "cell_type": "code",
   "execution_count": 6,
   "id": "bafd030b-901a-438e-b85d-33bb1b7d2a53",
   "metadata": {},
   "outputs": [
    {
     "data": {
      "text/plain": [
       "0.092"
      ]
     },
     "execution_count": 6,
     "metadata": {},
     "output_type": "execute_result"
    }
   ],
   "source": [
    "0.6 * 0.1 + 0.4 * 0.08"
   ]
  },
  {
   "cell_type": "markdown",
   "id": "7ca3b5f0-500d-4d43-9ae2-bf1a691bfca3",
   "metadata": {},
   "source": [
    "$\n",
    "E(R_p) = 0.092 = 9.2 \\%\n",
    "$"
   ]
  },
  {
   "cell_type": "markdown",
   "id": "9b44716d-fead-4ae2-9b8f-d89daf7db8b3",
   "metadata": {},
   "source": [
    "$$\n",
    "var(R_p) = w_a * var(A) + w_b * var(B) + w_a * w_b * cov(A, B) \n",
    "$$"
   ]
  },
  {
   "cell_type": "markdown",
   "id": "7319e7b0-3317-4e64-835f-447c93a46b37",
   "metadata": {},
   "source": [
    "$$\n",
    "cov(A, B) = 0\n",
    "$$\n",
    "$$\n",
    "var(A) = sd(A) ^ 2, var(B) = sd(B) ^ 2\n",
    "$$\n",
    "$$\n",
    "var(A) = (0.6 * 0.15) ^2\n",
    "$$\n",
    "$$\n",
    "var(B) = (0.4 * 0.1) ^2\n",
    "$$"
   ]
  },
  {
   "cell_type": "code",
   "execution_count": 31,
   "id": "1073b75b-4316-4081-bc10-9ce54a422c5c",
   "metadata": {},
   "outputs": [
    {
     "data": {
      "text/plain": [
       "0.0097"
      ]
     },
     "execution_count": 31,
     "metadata": {},
     "output_type": "execute_result"
    }
   ],
   "source": [
    "((0.6 * 0.15) **2) + ((0.4*0.1) **2) + 0"
   ]
  },
  {
   "cell_type": "markdown",
   "id": "498d1d71-6e47-455b-9bcc-5bc1b59a9c59",
   "metadata": {},
   "source": [
    "$var(R_p) = 0.0097$"
   ]
  },
  {
   "cell_type": "markdown",
   "id": "5e210330-1930-4c6a-8cd3-e594b225e6ec",
   "metadata": {},
   "source": [
    "## 3. Given a corporate bond with a yield of 6% and a similar maturity risk-free rate of 3%, calculate the credit spread.\n"
   ]
  },
  {
   "cell_type": "markdown",
   "id": "a3db9e2d-a75e-472a-bca9-bc8d435a95bd",
   "metadata": {},
   "source": [
    "$$\n",
    "credit\\ spread = yield - risk-free\\ rate\n",
    "$$\n",
    "$$\n",
    "= 0.06 - 0.03\n",
    "$$\n",
    "$credit\\ spread = 3%$"
   ]
  },
  {
   "cell_type": "markdown",
   "id": "51816449-4669-43e2-b3fd-a204a8add57c",
   "metadata": {},
   "source": [
    "## 4. Calculate the credit valuation adjustment (CVA) for a portfolio of derivative contracts with a total notional value of $10 million, a default probability of 1%, and an LGD of 40%."
   ]
  },
  {
   "cell_type": "markdown",
   "id": "5fb547fa-26c0-421c-a8bd-0eb21793549a",
   "metadata": {},
   "source": [
    "$$\n",
    "cVA = Exposure * Default\\ probability * LGD\n",
    "$$\n",
    "$$\n",
    "= 10, 000, 000 * 0.01 * 0.4\n",
    "$$"
   ]
  },
  {
   "cell_type": "code",
   "execution_count": 8,
   "id": "f44484f6-aec1-4036-980f-e56beb7d5302",
   "metadata": {},
   "outputs": [
    {
     "data": {
      "text/plain": [
       "40000.0"
      ]
     },
     "execution_count": 8,
     "metadata": {},
     "output_type": "execute_result"
    }
   ],
   "source": [
    "10_000_000 * 0.01 * 0.4"
   ]
  },
  {
   "cell_type": "markdown",
   "id": "152d8d55-fdf0-43fd-8789-5b7b7dffb262",
   "metadata": {},
   "source": [
    "$credit\\ valuation\\ adjustment = 40,000$"
   ]
  },
  {
   "cell_type": "markdown",
   "id": "22a56685-89bd-4282-abba-ac52a77b9ffc",
   "metadata": {},
   "source": [
    "## 5. Calculate the Sharpe ratio for a portfolio with an average annual return of 10% and a standard deviation of returns of 15%. The risk-free rate is 3%."
   ]
  },
  {
   "cell_type": "markdown",
   "id": "61c84d50-14f5-4fdf-b850-f7de8388aaeb",
   "metadata": {},
   "source": [
    "$$\n",
    "E(R_p)-\\ is\\ the\\ expected\\ return\\ of\\ the\\ portfolio.\n",
    "$$\n",
    "$$\n",
    "𝑅_𝑓-\\ is\\ the\\ risk-free\\ rate.\n",
    "$$\n",
    "$$\n",
    "\\sigma -is\\ the\\ standard\\ deviation\\ of\\ the\\ portfolio’s\\ returns.\n",
    "$$\n",
    "$$\n",
    "sharpe\\ ratio = \\frac{E(R_p) - R_f}{\\sigma}\n",
    "$$"
   ]
  },
  {
   "cell_type": "markdown",
   "id": "b9ae7501-192f-4804-a214-dc36dd927cf3",
   "metadata": {},
   "source": [
    "$$\n",
    "= \\frac{0.1 - 0.03}{0.15}\n",
    "$$"
   ]
  },
  {
   "cell_type": "code",
   "execution_count": 9,
   "id": "aca5ef99-038a-44d5-95fa-a8e8869783b3",
   "metadata": {},
   "outputs": [
    {
     "data": {
      "text/plain": [
       "0.46666666666666673"
      ]
     },
     "execution_count": 9,
     "metadata": {},
     "output_type": "execute_result"
    }
   ],
   "source": [
    "(0.1 - 0.03)/0.15"
   ]
  },
  {
   "cell_type": "markdown",
   "id": "29213926-76ff-4f54-9ca4-ac7914b2f8ea",
   "metadata": {},
   "source": [
    "$sharpe\\ ratio = 0.466667$"
   ]
  },
  {
   "cell_type": "markdown",
   "id": "b4bbfebf-0993-41f8-9c38-80950c4c836d",
   "metadata": {},
   "source": [
    "## 6. Calculate the beta of a stock with an average return of 12% and a standard deviation of returns of 18%. The average return of the market is 8%, and its standard deviation of returns is 12%.\r\n"
   ]
  },
  {
   "cell_type": "markdown",
   "id": "4ade2d41-c0a4-4a19-8581-9d377fea6045",
   "metadata": {},
   "source": [
    "the stock has an internal correlation of 1 with the market. \n",
    "\n",
    "ie. The growth of the stock is directly dependent on the market\n",
    "\n",
    "$Cor(R_i, R_m) = 1$\n",
    "\n",
    "$\\therefore$ \n",
    "\n",
    "$$\n",
    "\\beta (sensitivity) = \\frac{Cov(R_i\\ (stock's\\ returns) - R_m\\ (market returns))}{var(R_M)}\n",
    "$$\n",
    "\n",
    "$$\n",
    "\\beta = Cor(R_i, R_m) * \\frac{\\sigma_i}{\\sigma_m}\n",
    "$$\n",
    "\n",
    "$$\n",
    "sensitivity = \\frac{0.18}{0.12}\n",
    "$$"
   ]
  },
  {
   "cell_type": "code",
   "execution_count": 10,
   "id": "7e1d7819-3c93-4f64-946c-ce3366fa6978",
   "metadata": {},
   "outputs": [
    {
     "data": {
      "text/plain": [
       "1.5"
      ]
     },
     "execution_count": 10,
     "metadata": {},
     "output_type": "execute_result"
    }
   ],
   "source": [
    "0.18/0.12"
   ]
  },
  {
   "cell_type": "markdown",
   "id": "4c5056b5-b3b9-48be-adc0-185202b1a44a",
   "metadata": {},
   "source": [
    "$sensitivity = 1.5$"
   ]
  },
  {
   "cell_type": "markdown",
   "id": "db77c019-8d40-4c1a-9757-d618de45a680",
   "metadata": {},
   "source": [
    "## 7. Consider a hypothetical portfolio with the following thirty historical returns data:\n",
    "|Day| 1| 2| 3| 4| 5| 6| 7| 8| 9| 10| 11| 12| 13| 14| 15|\r\n",
    "|:---|---:|---:|---:|---:|---:|---:|---:|---:|---:|---:|---:|---:|---:|---:|---:\n",
    "|Return (%)| -1.2| 0.5| 1.0| -0.7| -1.5| 2.3| -0.4| 0.6| -2.1| 1.2| 0.8| -1.1| 1.5| -0.3| 2.0|\n",
    "\n",
    "$$\n",
    "Table\\ 1:\\ Historical\\ Returns\\ Data\\ (Days\\ 1-15)|$$\n",
    "\n",
    "|Day| 16| 17| 18| 19| 20| 21| 22| 23| 24| 25| 26| 27| 28| 29| 30|\n",
    "|:---|---:|---:|---:|---:|---:|---:|---:|---:|---:|---:|---:|---:|---:|---:|---:|\n",
    "|Return (%)| -1.7| 0.4| -0.5| 1.8| -2.2| 0.9| 1.1| -1.6| 2.4| -0.9| 1.3| -0.8| 0.7| -1.9| 1.4|\n",
    "\n",
    "$$\n",
    "Table\\ 2:\\ Historical\\ Returns\\ Data\\ (Days\\ 16-30)\n",
    "$$\n",
    "\n",
    "## Calculate the volatility of the returns and determine both the VaR and CVaR of the portfolio using the historical method on returns data, the parametric method, and Monte Carlo simulation. Comment on the results by the three methods and give a convincing justification\n",
    "\n"
   ]
  },
  {
   "cell_type": "code",
   "execution_count": 11,
   "id": "7dfc49d0-7970-4156-8958-8655e0dae136",
   "metadata": {},
   "outputs": [
    {
     "data": {
      "text/plain": [
       "array([-2.2, -2.1, -1.9, -1.7, -1.6, -1.5, -1.2, -1.1, -0.9, -0.8, -0.7,\n",
       "       -0.5, -0.4, -0.3,  0.4,  0.5,  0.6,  0.7,  0.8,  0.9,  1. ,  1.1,\n",
       "        1.2,  1.3,  1.4,  1.5,  1.8,  2. ,  2.3,  2.4])"
      ]
     },
     "execution_count": 11,
     "metadata": {},
     "output_type": "execute_result"
    }
   ],
   "source": [
    "import numpy as np\n",
    "returns = np.array([-1.2, 0.5, 1.0, -0.7, -1.5, 2.3, -0.4, 0.6, -2.1, 1.2, 0.8, -1.1, 1.5, -0.3, 2.0, -1.7,\n",
    "                    0.4, -0.5, 1.8, -2.2, 0.9, 1.1, -1.6, 2.4, -0.9, 1.3, -0.8, 0.7, -1.9, 1.4])\n",
    "returns = np.sort(returns)\n",
    "returns"
   ]
  },
  {
   "cell_type": "code",
   "execution_count": 12,
   "id": "af55525e-be81-42ea-b947-70e1b86f6c48",
   "metadata": {},
   "outputs": [
    {
     "data": {
      "text/plain": [
       "30"
      ]
     },
     "execution_count": 12,
     "metadata": {},
     "output_type": "execute_result"
    }
   ],
   "source": [
    "ret_elements = list(np.array(returns.shape))[0]\n",
    "ret_elements"
   ]
  },
  {
   "cell_type": "code",
   "execution_count": 13,
   "id": "284c2520-dbe7-4d59-926e-9ae0d079655f",
   "metadata": {},
   "outputs": [
    {
     "data": {
      "text/plain": [
       "1.3650396819628847"
      ]
     },
     "execution_count": 13,
     "metadata": {},
     "output_type": "execute_result"
    }
   ],
   "source": [
    "volatility = np.std(returns)\n",
    "volatility"
   ]
  },
  {
   "cell_type": "markdown",
   "id": "7118b717-0b1a-407c-ada5-d4b93e03e2ed",
   "metadata": {},
   "source": [
    "### cVAR and VAR of the portfolio using Historical method"
   ]
  },
  {
   "cell_type": "code",
   "execution_count": 14,
   "id": "4e9d7f34-a13f-4475-a0ba-38cc8dff5e73",
   "metadata": {},
   "outputs": [
    {
     "data": {
      "text/plain": [
       "2"
      ]
     },
     "execution_count": 14,
     "metadata": {},
     "output_type": "execute_result"
    }
   ],
   "source": [
    "# using the confidence level of 95%\n",
    "import math\n",
    "loss_level_hist = math.ceil(0.05 * ret_elements)\n",
    "loss_level_hist"
   ]
  },
  {
   "cell_type": "code",
   "execution_count": 24,
   "id": "954b4c3c-aa09-4198-aae4-1c5ffc765477",
   "metadata": {},
   "outputs": [
    {
     "data": {
      "text/plain": [
       "-2.1"
      ]
     },
     "execution_count": 24,
     "metadata": {},
     "output_type": "execute_result"
    }
   ],
   "source": [
    "var_historical = returns[:loss_level_hist, ][-1]\n",
    "var_historical"
   ]
  },
  {
   "cell_type": "markdown",
   "id": "aa1e3dee-997c-4d24-b40f-0bc54ff77200",
   "metadata": {},
   "source": [
    "$VAR = -2.1$"
   ]
  },
  {
   "cell_type": "code",
   "execution_count": 16,
   "id": "1d839c7a-9300-48ed-a79c-e1f5dfa6df57",
   "metadata": {},
   "outputs": [
    {
     "data": {
      "text/plain": [
       "-2.1500000000000004"
      ]
     },
     "execution_count": 16,
     "metadata": {},
     "output_type": "execute_result"
    }
   ],
   "source": [
    "cvar_historical = np.mean(returns[:loss_level_hist,])\n",
    "cvar_historical"
   ]
  },
  {
   "cell_type": "markdown",
   "id": "cb5eedc9-52aa-489e-9ea3-1e12c4997671",
   "metadata": {},
   "source": [
    "cVAR = -2.15"
   ]
  },
  {
   "cell_type": "markdown",
   "id": "e17ce353-2b94-43da-a28d-984f8733e471",
   "metadata": {},
   "source": [
    "### cVAR and VAR of the portfolio using Parametric Method"
   ]
  },
  {
   "cell_type": "code",
   "execution_count": 17,
   "id": "a500ee2d-803e-468a-9178-f37d812960bd",
   "metadata": {},
   "outputs": [],
   "source": [
    "mean_returns = np.mean(returns)\n",
    "sd_returns = volatility\n",
    "z_val = -1.65"
   ]
  },
  {
   "cell_type": "markdown",
   "id": "9f5d1aa0-b1bf-4b5c-823e-e5e56cda4df9",
   "metadata": {},
   "source": [
    "$$\n",
    "VAR = \\mu + (z_{score} * \\sigma)\n",
    "$$"
   ]
  },
  {
   "cell_type": "code",
   "execution_count": 18,
   "id": "3649608c-1e26-4df5-b432-64c132650ad3",
   "metadata": {},
   "outputs": [
    {
     "data": {
      "text/plain": [
       "-2.1523154752387597"
      ]
     },
     "execution_count": 18,
     "metadata": {},
     "output_type": "execute_result"
    }
   ],
   "source": [
    "var_parametric = mean_returns + (z_val * sd_returns)\n",
    "var_parametric"
   ]
  },
  {
   "cell_type": "markdown",
   "id": "caa4e7ed-89b4-435e-b391-8b91f5e6b042",
   "metadata": {},
   "source": [
    "$$\r\n",
    "cVAR = \\mu + \\frac{\\phi (z_{score})*\\sigma}{1 - C.L}\r\n",
    "$$\r\n",
    "\r\n",
    "$\\phi$ - standard normalization of the pdf"
   ]
  },
  {
   "cell_type": "code",
   "execution_count": 19,
   "id": "e207acb3-e31f-4268-9b92-73cbe6d9ce61",
   "metadata": {},
   "outputs": [
    {
     "data": {
      "text/plain": [
       "-2.691913602055417"
      ]
     },
     "execution_count": 19,
     "metadata": {},
     "output_type": "execute_result"
    }
   ],
   "source": [
    "from scipy.stats import norm\n",
    "phi_data = norm.pdf(z_val)\n",
    "\n",
    "cVAR_parametric = mean_returns - ( (phi_data * sd_returns)/ (1 - 0.95))\n",
    "cVAR_parametric"
   ]
  },
  {
   "cell_type": "markdown",
   "id": "261d8f87-36f6-46ee-867b-6c69a04d805a",
   "metadata": {},
   "source": [
    "cVAR using parametric method = $-2.6191$\n",
    "\n",
    "VAR using parametric method = $-2.1523$"
   ]
  },
  {
   "cell_type": "markdown",
   "id": "73ce5427-6b6c-4d07-b44e-3afc49069113",
   "metadata": {},
   "source": [
    "## cVAR and VAR of the portfolio using Monte Carlo method"
   ]
  },
  {
   "cell_type": "code",
   "execution_count": 20,
   "id": "4c64bf35-e99b-47ce-a12f-127c3e6f853d",
   "metadata": {},
   "outputs": [
    {
     "data": {
      "text/plain": [
       "array([-5.42086659, -4.78354865, -4.77336518, ...,  4.94524895,\n",
       "        4.9695628 ,  5.68176636])"
      ]
     },
     "execution_count": 20,
     "metadata": {},
     "output_type": "execute_result"
    }
   ],
   "source": [
    "generated_random_data = np.sort(np.random.normal(mean_returns, sd_returns, 10_000))\n",
    "generated_random_data"
   ]
  },
  {
   "cell_type": "code",
   "execution_count": 21,
   "id": "ca857a4c-f23c-42a3-94ad-dd6b8d58dd95",
   "metadata": {},
   "outputs": [
    {
     "data": {
      "text/plain": [
       "500"
      ]
     },
     "execution_count": 21,
     "metadata": {},
     "output_type": "execute_result"
    }
   ],
   "source": [
    "element_at_5_percent = math.ceil(10000 * 0.05)\n",
    "element_at_5_percent"
   ]
  },
  {
   "cell_type": "code",
   "execution_count": 32,
   "id": "8855e7f2-ae79-4655-91cd-274952614a3f",
   "metadata": {},
   "outputs": [
    {
     "data": {
      "text/plain": [
       "-2.2016173207825913"
      ]
     },
     "execution_count": 32,
     "metadata": {},
     "output_type": "execute_result"
    }
   ],
   "source": [
    "var_monte_carlo = generated_random_data[:500,][-1]\n",
    "var_monte_carlo"
   ]
  },
  {
   "cell_type": "code",
   "execution_count": 33,
   "id": "760dc87b-e3a0-4710-8fac-7272cfc89af5",
   "metadata": {},
   "outputs": [
    {
     "data": {
      "text/plain": [
       "-2.7230982715440586"
      ]
     },
     "execution_count": 33,
     "metadata": {},
     "output_type": "execute_result"
    }
   ],
   "source": [
    "cvar_monte_carlo =  np.mean(generated_random_data[:element_at_5_percent,])\n",
    "cvar_monte_carlo"
   ]
  }
 ],
 "metadata": {
  "kernelspec": {
   "display_name": "Python 3 (ipykernel)",
   "language": "python",
   "name": "python3"
  },
  "language_info": {
   "codemirror_mode": {
    "name": "ipython",
    "version": 3
   },
   "file_extension": ".py",
   "mimetype": "text/x-python",
   "name": "python",
   "nbconvert_exporter": "python",
   "pygments_lexer": "ipython3",
   "version": "3.12.4"
  }
 },
 "nbformat": 4,
 "nbformat_minor": 5
}
