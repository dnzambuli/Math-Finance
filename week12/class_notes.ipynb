{
 "cells": [
  {
   "cell_type": "code",
   "execution_count": 1,
   "id": "3e6ff853-548a-4aea-a640-503ffd1a3839",
   "metadata": {},
   "outputs": [],
   "source": [
    "import numpy as np"
   ]
  },
  {
   "cell_type": "code",
   "execution_count": 4,
   "id": "4c130274-d368-4660-ab26-c413a9e76aae",
   "metadata": {},
   "outputs": [],
   "source": [
    "ret = np.array([-3, 2, 1, 0.2, -4, -1.5, -3.1, 2, 3, 4, 2.2, 2.5])"
   ]
  },
  {
   "cell_type": "code",
   "execution_count": 6,
   "id": "7acb8861-41e0-42ec-ab38-18ff4fb0d24f",
   "metadata": {},
   "outputs": [
    {
     "data": {
      "text/plain": [
       "array([-4. , -3.1, -3. , -1.5,  0.2,  1. ,  2. ,  2. ,  2.2,  2.5,  3. ,\n",
       "        4. ])"
      ]
     },
     "execution_count": 6,
     "metadata": {},
     "output_type": "execute_result"
    }
   ],
   "source": [
    "ret = np.sort(ret)\n",
    "ret"
   ]
  },
  {
   "cell_type": "code",
   "execution_count": 8,
   "id": "99fa4313-b83b-4832-969d-ec161d5731ed",
   "metadata": {},
   "outputs": [
    {
     "data": {
      "text/plain": [
       "array([-0.04 , -0.031, -0.03 , -0.015,  0.002,  0.01 ,  0.02 ,  0.02 ,\n",
       "        0.022,  0.025,  0.03 ,  0.04 ])"
      ]
     },
     "execution_count": 8,
     "metadata": {},
     "output_type": "execute_result"
    }
   ],
   "source": [
    "ret = ret / 100\n",
    "ret"
   ]
  },
  {
   "cell_type": "markdown",
   "id": "3208abe1-a344-4015-9b60-a62d1cc8dbda",
   "metadata": {},
   "source": [
    "## VAR with historical data"
   ]
  },
  {
   "cell_type": "code",
   "execution_count": 9,
   "id": "19339dff-48ff-4e5d-a42c-9817e913fb77",
   "metadata": {},
   "outputs": [
    {
     "data": {
      "text/plain": [
       "(12,)"
      ]
     },
     "execution_count": 9,
     "metadata": {},
     "output_type": "execute_result"
    }
   ],
   "source": [
    "ret.shape"
   ]
  },
  {
   "cell_type": "code",
   "execution_count": 10,
   "id": "ffa32bfd-42d4-46c4-824e-3020506110e5",
   "metadata": {},
   "outputs": [
    {
     "data": {
      "text/plain": [
       "0.6000000000000001"
      ]
     },
     "execution_count": 10,
     "metadata": {},
     "output_type": "execute_result"
    }
   ],
   "source": [
    "loss_hist = 0.05 * 12\n",
    "loss_hist"
   ]
  },
  {
   "cell_type": "code",
   "execution_count": 11,
   "id": "587e0f4f-cbab-4629-b1e0-499ab76a7e92",
   "metadata": {},
   "outputs": [
    {
     "data": {
      "text/plain": [
       "1"
      ]
     },
     "execution_count": 11,
     "metadata": {},
     "output_type": "execute_result"
    }
   ],
   "source": [
    "import math\n",
    "loss_hist = math.ceil(loss_hist)\n",
    "loss_hist"
   ]
  },
  {
   "cell_type": "code",
   "execution_count": 13,
   "id": "fe9ad997-5b56-4d1c-aff8-8b1728410278",
   "metadata": {},
   "outputs": [
    {
     "data": {
      "text/plain": [
       "-0.04"
      ]
     },
     "execution_count": 13,
     "metadata": {},
     "output_type": "execute_result"
    }
   ],
   "source": [
    "cVAR_historical = np.mean(ret[:loss_hist,])\n",
    "cVAR_historical"
   ]
  },
  {
   "cell_type": "markdown",
   "id": "0de39e37-640b-4f77-9fbc-f2721ddfca12",
   "metadata": {},
   "source": [
    "## VAR with Parametric Method"
   ]
  },
  {
   "cell_type": "code",
   "execution_count": 15,
   "id": "f9f9ecb0-99bf-451c-b9f6-e08b137fd433",
   "metadata": {},
   "outputs": [
    {
     "data": {
      "text/plain": [
       "0.004416666666666667"
      ]
     },
     "execution_count": 15,
     "metadata": {},
     "output_type": "execute_result"
    }
   ],
   "source": [
    "mean_data = np.mean(ret)\n",
    "# sd_data = np.sd(ret)\n",
    "mean_data"
   ]
  },
  {
   "cell_type": "code",
   "execution_count": 16,
   "id": "928a3571-2286-4278-a3ae-c335285aaa14",
   "metadata": {},
   "outputs": [
    {
     "data": {
      "text/plain": [
       "0.02576321128189488"
      ]
     },
     "execution_count": 16,
     "metadata": {},
     "output_type": "execute_result"
    }
   ],
   "source": [
    "sd_data = np.std(ret)\n",
    "sd_data"
   ]
  },
  {
   "cell_type": "code",
   "execution_count": 19,
   "id": "3534924d-64d9-46a0-b187-c1220f925158",
   "metadata": {},
   "outputs": [
    {
     "data": {
      "text/plain": [
       "-1.65"
      ]
     },
     "execution_count": 19,
     "metadata": {},
     "output_type": "execute_result"
    }
   ],
   "source": [
    "z_val = -1.65\n",
    "z_val"
   ]
  },
  {
   "cell_type": "markdown",
   "id": "6cbead5d-ce17-428f-bde9-f4e6c6e32a3e",
   "metadata": {},
   "source": [
    "$$\n",
    "VAR = \\mu + (z_{score} * \\sigma)\n",
    "$$"
   ]
  },
  {
   "cell_type": "code",
   "execution_count": 20,
   "id": "f064bda4-d98b-4259-8136-0e6c572b470a",
   "metadata": {},
   "outputs": [
    {
     "data": {
      "text/plain": [
       "1.959963984540054"
      ]
     },
     "execution_count": 20,
     "metadata": {},
     "output_type": "execute_result"
    }
   ],
   "source": [
    "# using stats\n",
    "import scipy.stats as stats\n",
    "stats.norm.ppf((1 + 0.95) / 2)"
   ]
  },
  {
   "cell_type": "code",
   "execution_count": 24,
   "id": "a83f0635-8c78-4e37-9c7b-85cf85c6f38c",
   "metadata": {},
   "outputs": [
    {
     "data": {
      "text/plain": [
       "-0.03809263194845988"
      ]
     },
     "execution_count": 24,
     "metadata": {},
     "output_type": "execute_result"
    }
   ],
   "source": [
    "var_parametric = mean_data + (z_val * sd_data)\n",
    "var_parametric"
   ]
  },
  {
   "cell_type": "code",
   "execution_count": 22,
   "id": "8e6a398e-b976-4732-ae33-e6a84adef1e6",
   "metadata": {},
   "outputs": [
    {
     "data": {
      "text/plain": [
       "0.046925965281793214"
      ]
     },
     "execution_count": 22,
     "metadata": {},
     "output_type": "execute_result"
    }
   ],
   "source": [
    "mean_data - (z_val * sd_data)"
   ]
  },
  {
   "cell_type": "markdown",
   "id": "dd1ef135-5ae7-42f7-a69b-2b1f3960bbb1",
   "metadata": {},
   "source": [
    "$$\n",
    "cVAR = \\mu + \\frac{\\phi (z_{score})*\\sigma}{1 - C.L}\n",
    "$$\n",
    "\n",
    "$\\phi$ - standard normalization of the pdf"
   ]
  },
  {
   "cell_type": "code",
   "execution_count": 32,
   "id": "42821ce4-2b27-42e1-bb1a-aec3399f0627",
   "metadata": {},
   "outputs": [
    {
     "data": {
      "text/plain": [
       "0.10226492456397804"
      ]
     },
     "execution_count": 32,
     "metadata": {},
     "output_type": "execute_result"
    }
   ],
   "source": [
    "from scipy.stats import norm\n",
    "norm.pdf(-z_val)"
   ]
  },
  {
   "cell_type": "code",
   "execution_count": 41,
   "id": "d88826b8-3082-4229-adb2-f8e46a379da1",
   "metadata": {},
   "outputs": [
    {
     "data": {
      "text/plain": [
       "-0.04827679049870944"
      ]
     },
     "execution_count": 41,
     "metadata": {},
     "output_type": "execute_result"
    }
   ],
   "source": [
    "phi_data = norm.pdf(z_val)\n",
    "\n",
    "cVAR_parametric = mean_data - ( (phi_data * sd_data)/ (1 - 0.95))\n",
    "cVAR_parametric"
   ]
  },
  {
   "cell_type": "markdown",
   "id": "ae6d157a-01b3-4a4f-b24c-fababda4f41d",
   "metadata": {},
   "source": [
    "## VAR Monte Carlo"
   ]
  },
  {
   "cell_type": "code",
   "execution_count": 43,
   "id": "1450c802-236b-42e7-bf34-37ea82be4ec1",
   "metadata": {},
   "outputs": [
    {
     "data": {
      "text/plain": [
       "array([ 0.03284713, -0.00940873, -0.00073174, ...,  0.00754052,\n",
       "        0.02368976,  0.04153838])"
      ]
     },
     "execution_count": 43,
     "metadata": {},
     "output_type": "execute_result"
    }
   ],
   "source": [
    "generated_data = np.random.normal(mean_data, sd_data, 10000)\n",
    "generated_data"
   ]
  },
  {
   "cell_type": "code",
   "execution_count": 44,
   "id": "4088bcc4-26c9-4f97-aba7-b276857517f6",
   "metadata": {},
   "outputs": [
    {
     "data": {
      "text/plain": [
       "(10000,)"
      ]
     },
     "execution_count": 44,
     "metadata": {},
     "output_type": "execute_result"
    }
   ],
   "source": [
    "generated_data.shape"
   ]
  },
  {
   "cell_type": "code",
   "execution_count": 46,
   "id": "756c86e1-29c7-486e-8dfd-02664ec2a333",
   "metadata": {},
   "outputs": [
    {
     "data": {
      "text/plain": [
       "array([-0.08723254, -0.08575259, -0.0855233 , ...,  0.09135402,\n",
       "        0.09235427,  0.09536122])"
      ]
     },
     "execution_count": 46,
     "metadata": {},
     "output_type": "execute_result"
    }
   ],
   "source": [
    "generated_data = np.sort(generated_data)\n",
    "generated_data"
   ]
  },
  {
   "cell_type": "code",
   "execution_count": 47,
   "id": "ad3932ce-7440-4c32-aaf3-466a67a77c61",
   "metadata": {},
   "outputs": [
    {
     "data": {
      "text/plain": [
       "500"
      ]
     },
     "execution_count": 47,
     "metadata": {},
     "output_type": "execute_result"
    }
   ],
   "source": [
    "element_at_5_percent = math.ceil(10000 * 0.05)\n",
    "element_at_5_percent"
   ]
  },
  {
   "cell_type": "markdown",
   "id": "5fb5a387-eaa7-46b0-b990-20fb7038b3ef",
   "metadata": {},
   "source": [
    "$$\n",
    "CVAR = historical\\ cVAR\\ formula\n",
    "$$"
   ]
  },
  {
   "cell_type": "code",
   "execution_count": 48,
   "id": "42de1e15-a5bf-45f1-a958-dd69faab191a",
   "metadata": {},
   "outputs": [
    {
     "data": {
      "text/plain": [
       "-0.04874097691774669"
      ]
     },
     "execution_count": 48,
     "metadata": {},
     "output_type": "execute_result"
    }
   ],
   "source": [
    "cVAR_monte_carlo = np.mean(generated_data[:element_at_5_percent,])\n",
    "cVAR_monte_carlo"
   ]
  },
  {
   "cell_type": "code",
   "execution_count": null,
   "id": "01d80811-6b64-460b-a1c5-5afcaeb0d23c",
   "metadata": {},
   "outputs": [],
   "source": []
  }
 ],
 "metadata": {
  "kernelspec": {
   "display_name": "Python 3 (ipykernel)",
   "language": "python",
   "name": "python3"
  },
  "language_info": {
   "codemirror_mode": {
    "name": "ipython",
    "version": 3
   },
   "file_extension": ".py",
   "mimetype": "text/x-python",
   "name": "python",
   "nbconvert_exporter": "python",
   "pygments_lexer": "ipython3",
   "version": "3.11.7"
  }
 },
 "nbformat": 4,
 "nbformat_minor": 5
}
